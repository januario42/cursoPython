{
 "cells": [
  {
   "cell_type": "code",
   "execution_count": 1,
   "metadata": {},
   "outputs": [
    {
     "name": "stdout",
     "output_type": "stream",
     "text": [
      "Script executado com sucesso!\n"
     ]
    }
   ],
   "source": [
    "#Este sinal serve para comentar  um codigo para que o usuario saiba que o codigo faz\n",
    "\n",
    "\"\"\"\n",
    " usando 3 aspas\n",
    " comenta varias linhas\n",
    "\"\"\"\n",
    "print(\"Script executado com sucesso!\")"
   ]
  },
  {
   "cell_type": "code",
   "execution_count": 2,
   "metadata": {},
   "outputs": [
    {
     "name": "stdout",
     "output_type": "stream",
     "text": [
      "Inteiro: 42\n",
      "Flutuante: 42.0\n",
      "Complexo: (3+4j)\n",
      "Texto: Olá, Mundo\n",
      "Lista: [1, 2, 3, 4, 5]\n",
      "Tuplas: (1, 2, 3, 4, 5)\n",
      "Conjunto: {1, 2, 3, 4, 5}\n",
      "Dicionario: {'nome': 'João', 'idade': 25}\n",
      "Booleano: True\n",
      "Nenhum: None\n"
     ]
    }
   ],
   "source": [
    "\"\"\"\n",
    "Uma variável na programação é como um espaço na memória do computador\n",
    "onde você pode armazenar um valor que pode mudar durante a execução\n",
    "do programa.\n",
    "\"\"\"\n",
    "#Tipos de variaveis\n",
    "\n",
    "# Número Inteiro\n",
    "inteiro = 42  # int\n",
    "print(f\"Inteiro: {inteiro}\")\n",
    "\n",
    "# Número Flutuante\n",
    "flutuante = 42.0  # float\n",
    "print(f\"Flutuante: {flutuante}\")\n",
    "\n",
    "# Número Complexo\n",
    "complexo = 3 + 4j  # complex\n",
    "print(f\"Complexo: {complexo}\")\n",
    "\n",
    "# Texto (String)\n",
    "texto = \"Olá, Mundo\"  # String\n",
    "print(f\"Texto: {texto}\")\n",
    "\n",
    "# Lista (Array)\n",
    "lista = [1, 2, 3, 4, 5]  # list\n",
    "print(f\"Lista: {lista}\")\n",
    "\n",
    "# Tupla (Array Imutável)\n",
    "tuplas = (1, 2, 3, 4, 5)\n",
    "print(f\"Tuplas: {tuplas}\")\n",
    "\n",
    "# Conjunto (Set)\n",
    "conjunto = {1, 2, 3, 4, 5}\n",
    "print(f\"Conjunto: {conjunto}\")\n",
    "\n",
    "# Dicionário (Objeto)\n",
    "dicionario = {\"nome\": \"João\", \"idade\": 25}  \n",
    "print(f\"Dicionario: {dicionario}\")\n",
    "\n",
    "# Booleano (Lógico)\n",
    "booleano = True  # TRUE ou FALSE\n",
    "print(f\"Booleano: {booleano}\")\n",
    "\n",
    "# Nenhum (Null)\n",
    "nenhum = None\n",
    "print(f\"Nenhum: {nenhum}\")\n",
    "\n"
   ]
  },
  {
   "cell_type": "code",
   "execution_count": 3,
   "metadata": {},
   "outputs": [
    {
     "name": "stdout",
     "output_type": "stream",
     "text": [
      "Nome: renete\n",
      "Idade: 19\n",
      "Nome: renete, Idade: 19\n"
     ]
    }
   ],
   "source": [
    "#Variaveis\n",
    "\n",
    "idade = 19\n",
    "nome = \"renete\"\n",
    "\n",
    "print(f\"Nome: {nome}\")\n",
    "print(f\"Idade: {idade}\")\n",
    "print(f\"Nome: {nome}, Idade: {idade}\")"
   ]
  },
  {
   "cell_type": "code",
   "execution_count": 12,
   "metadata": {},
   "outputs": [
    {
     "name": "stdout",
     "output_type": "stream",
     "text": [
      "<class 'str'>\n",
      "<class 'int'>\n"
     ]
    }
   ],
   "source": [
    "# Podemos obter o tipo da variavel atraves do comando type()\n",
    "\n",
    "nome =  \"Ana Paula\"\n",
    "idade = 32\n",
    "\n",
    "print(type(nome))\n",
    "print(type(idade))"
   ]
  },
  {
   "cell_type": "code",
   "execution_count": null,
   "metadata": {},
   "outputs": [
    {
     "name": "stdout",
     "output_type": "stream",
     "text": [
      "30\n",
      "Ana\n"
     ]
    }
   ],
   "source": [
    "#As variaveis se diferenciam entre maiuscula e minuscula tambem\n",
    "idade_Renata = 19\n",
    "I = \"Ana\"\n",
    "\n",
    "print(i)\n",
    "print(I)"
   ]
  },
  {
   "cell_type": "code",
   "execution_count": 15,
   "metadata": {},
   "outputs": [
    {
     "name": "stdout",
     "output_type": "stream",
     "text": [
      "Texto1\n",
      "Texto2\n",
      "Texto3\n",
      "Texto4\n"
     ]
    }
   ],
   "source": [
    "#podemos atribuir valores a varias variaveis em uma só linha\n",
    "var1, var2, var3, var4 = \"Texto1\", \"Texto2\", \"Texto3\", \"Texto4\" \n",
    "\n",
    "print(var1)\n",
    "print(var2)\n",
    "print(var3)\n",
    "print(var4)"
   ]
  },
  {
   "cell_type": "code",
   "execution_count": null,
   "metadata": {},
   "outputs": [
    {
     "name": "stdout",
     "output_type": "stream",
     "text": [
      "Ana Paula\n",
      "Ana Paula\n",
      "Ana Paula\n",
      "Ana Paula\n"
     ]
    }
   ],
   "source": [
    "#podemos atribuir o mesmo valor a várias variáveis\n",
    "var1 = var2 = var3 = var4 = \"Ana Paula\"\n",
    "print(var1)\n",
    "print(var2)\n",
    "print(var3)\n",
    "print(var4)"
   ]
  },
  {
   "cell_type": "code",
   "execution_count": 4,
   "metadata": {},
   "outputs": [
    {
     "name": "stdout",
     "output_type": "stream",
     "text": [
      "Texto1\n",
      "Texto2\n",
      "Texto3\n"
     ]
    }
   ],
   "source": [
    "exemplo = \"Texto1\", \"Texto2\", \"Texto3\"\n",
    "var1, var2 , var3 = exemplo\n",
    "\n",
    "print(var1)\n",
    "print(var2)\n",
    "print(var3)"
   ]
  },
  {
   "cell_type": "code",
   "execution_count": null,
   "metadata": {},
   "outputs": [
    {
     "name": "stdout",
     "output_type": "stream",
     "text": [
      "O nome dela é laiz e ela é legal\n",
      "DezVinte\n",
      "1020\n"
     ]
    }
   ],
   "source": [
    "#Para juntar textos e variaveis em python usamos + ou ,\n",
    "nome = \"laiz\"\n",
    "\n",
    "print(\"O nome dela é \" + nome + \" e ela é legal\") #usando + para juntar texto\n",
    "\n",
    "numero1 = \"Dez\"\n",
    "numero2 = \"Vinte\"\n",
    "\n",
    "print(numero1 + numero2)\n",
    "numero3 = 10\n",
    "numero4 = 20\n",
    "print(numero3 + numero4) "
   ]
  },
  {
   "cell_type": "code",
   "execution_count": 10,
   "metadata": {},
   "outputs": [
    {
     "name": "stdout",
     "output_type": "stream",
     "text": [
      "O nome completo dela é Renata Vitoria Silva Guimaraes \n"
     ]
    }
   ],
   "source": [
    "#Junçao de string ou texto em portugues\n",
    "nome = \"Renata Vitoria \"\n",
    "sobrenome = \"Silva Guimaraes \"\n",
    "print(\"O nome completo dela é \" + nome + sobrenome)\n"
   ]
  },
  {
   "cell_type": "code",
   "execution_count": 18,
   "metadata": {},
   "outputs": [
    {
     "name": "stdout",
     "output_type": "stream",
     "text": [
      "125.5\n"
     ]
    }
   ],
   "source": [
    "#1 declare uma variavel chamada \"idade\" e atribua o valor 25 a ela\n",
    "\n",
    "idade = 25\n",
    "\n",
    "#2 declare uma variavel chamada \"nome\" e atribua o valor \"João\"\n",
    "nome = \"João\"\n",
    "\n",
    "# declare uma variavel chamada \"saldo\" e atribua o valor 100.50 a ela\n",
    "\n",
    "saldo = 100.50\n",
    "\n",
    "# crie uma variavel chamada \"soma\" e atribua a ela a soma da idade e do saldo\n",
    "\n",
    "soma = idade + saldo\n",
    "# imprima na tela o valor da variavel \"soma\"\n",
    "print(soma)  "
   ]
  },
  {
   "cell_type": "code",
   "execution_count": 24,
   "metadata": {},
   "outputs": [
    {
     "name": "stdout",
     "output_type": "stream",
     "text": [
      "A média das notas é 7.57\n"
     ]
    }
   ],
   "source": [
    "nota1 = 7.5\n",
    "nota2 = 8.3\n",
    "nota3 = 6.9\n",
    "\n",
    "media= (nota1 + nota2 + nota3) / 3\n",
    "\n",
    "print(f\"A média das notas é\", format(media, \".2f\"))"
   ]
  },
  {
   "cell_type": "code",
   "execution_count": 33,
   "metadata": {},
   "outputs": [
    {
     "name": "stdout",
     "output_type": "stream",
     "text": [
      "Ola me chamo kaua\n",
      "Eu nasci em 2007\n",
      "Em dois meses terei 19\n"
     ]
    }
   ],
   "source": [
    "# 1. Crie uma variável chamada nome e atribua o seu nome a ela como um valor.\n",
    "\n",
    "nome = \"kaua\"\n",
    "# 2. Crie duas variáveis chamadas idade e ano_atual. \n",
    "idade = 18\n",
    "ano_atual = 2025\n",
    "\n",
    "# 3. Calcule o ano em que você nasceu.\n",
    "ano_nascimento = (ano_atual - idade)\n",
    "\n",
    "# 4. Incremente a variável idade em 1.\n",
    "idade_doismeses = idade + 1\n",
    "\n",
    "# 5. Imprima as mensagens.\n",
    "print(\"Ola me chamo \" + nome)\n",
    "print(\"Eu nasci em \" + str(ano_nascimento))\n",
    "print(\"Em dois meses terei \" + str(idade_doismeses) )"
   ]
  }
 ],
 "metadata": {
  "kernelspec": {
   "display_name": "Python 3",
   "language": "python",
   "name": "python3"
  },
  "language_info": {
   "codemirror_mode": {
    "name": "ipython",
    "version": 3
   },
   "file_extension": ".py",
   "mimetype": "text/x-python",
   "name": "python",
   "nbconvert_exporter": "python",
   "pygments_lexer": "ipython3",
   "version": "3.12.10"
  }
 },
 "nbformat": 4,
 "nbformat_minor": 2
}
