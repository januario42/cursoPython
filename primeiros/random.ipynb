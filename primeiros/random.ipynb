{
 "cells": [
  {
   "cell_type": "code",
   "execution_count": 29,
   "id": "5858aa27",
   "metadata": {},
   "outputs": [
    {
     "name": "stdout",
     "output_type": "stream",
     "text": [
      "89\n",
      "0.7864419793592391\n",
      "15\n",
      "banana\n",
      "[6, 1, 5, 4, 3, 2, 7]\n",
      "9.48790285067567\n"
     ]
    }
   ],
   "source": [
    "#Números aleatorios\n",
    "import random\n",
    "\n",
    "print (random.randrange(1,100))\n",
    "#gerar um número de ponto flutuante aleatorio entre 0 e 1\n",
    "print(random.random())\n",
    "#gerar um número inteiro aleatorio entre dois valores\n",
    "print(random.randint(1,100))\n",
    "\n",
    "frutas =[\"maçâ\", \"banana\", \"laranja\", \"morango\"]\n",
    "print(random.choice(frutas)) #escolher um item da lista aleatoriamente\n",
    "\n",
    "numeros = [1, 2, 3, 4, 5, 6, 7]\n",
    "random.shuffle(numeros)\n",
    "print(numeros) #embaralhar a lista aleatoriamente\n",
    "\n",
    "#gerar um número de ponto flutuante aleatorio em um intervalo especifico\n",
    "print(random.uniform(5.5,9.5))  #gera um número de ponto flutuante entre 5.5 e 9.5"
   ]
  },
  {
   "cell_type": "code",
   "execution_count": 33,
   "id": "26e7df87",
   "metadata": {},
   "outputs": [
    {
     "name": "stdout",
     "output_type": "stream",
     "text": [
      "P\n",
      "y\n",
      "t\n",
      "h\n",
      "o\n",
      "n\n"
     ]
    }
   ],
   "source": [
    "#imprime a posiçao das letras\n",
    "palavra = \"Python\"\n",
    "print(palavra[0])\n",
    "print(palavra[1])\n",
    "print(palavra[2])\n",
    "print(palavra[3])\n",
    "print(palavra[4])\n",
    "print(palavra[5])\n",
    "\n"
   ]
  },
  {
   "cell_type": "code",
   "execution_count": 36,
   "id": "6810c183",
   "metadata": {},
   "outputs": [
    {
     "name": "stdout",
     "output_type": "stream",
     "text": [
      " Mun\n",
      "olá, \n",
      "Mundo!\n"
     ]
    }
   ],
   "source": [
    "\n",
    "# Slice\n",
    "frase = \"olá, Mundo!\"\n",
    "\n",
    "#obtendo uma parte da string usando slice\n",
    "parte = frase[4:8]\n",
    "print(parte)  # imprime Mun\n",
    "\n",
    "#obtendo os primeiros 5 caracteres da string \n",
    "primeiros = frase [:5]\n",
    "print(primeiros) # imprime olá, \n",
    "\n",
    "#obtendo os ultimos 6 caracteres da string\n",
    "ultimos = frase [-6:]\n",
    "print(ultimos) # imprime Mundo"
   ]
  },
  {
   "cell_type": "code",
   "execution_count": null,
   "id": "d6b4707f",
   "metadata": {},
   "outputs": [
    {
     "name": "stdout",
     "output_type": "stream",
     "text": [
      "True\n"
     ]
    }
   ],
   "source": [
    "#verifica se a palavra esta na frase\n",
    "frase = \"o módulo de python é muito legal\"\n",
    "\n",
    "print(\"python\" in frase) # True\n",
    "\n",
    "# o operador in é usado para verificar se um valor está em uma lista,tupla ou string"
   ]
  },
  {
   "cell_type": "code",
   "execution_count": null,
   "id": "c61aac1a",
   "metadata": {},
   "outputs": [
    {
     "name": "stdout",
     "output_type": "stream",
     "text": [
      "Sim, a palavra 'legal' está na frase!\n"
     ]
    }
   ],
   "source": [
    "#verefica se a palavra legal esta na frase\n",
    "\n",
    "frase = \"o módulo de python é muito legal\"\n",
    "\n",
    "#if = se\n",
    "if \"legal\" in frase:\n",
    "    print(\"Sim, a palavra 'legal' está na frase!\")"
   ]
  },
  {
   "cell_type": "code",
   "execution_count": null,
   "id": "4383dbee",
   "metadata": {},
   "outputs": [
    {
     "name": "stdout",
     "output_type": "stream",
     "text": [
      "o módulo de python é muito legal\n"
     ]
    }
   ],
   "source": [
    "#strip - usamos para eliminar espaços en branco\n",
    "\n",
    "frase = \"             o módulo de python é muito legal\"\n",
    "\n",
    "print(frase.strip())"
   ]
  },
  {
   "cell_type": "code",
   "execution_count": null,
   "id": "b90f6a11",
   "metadata": {},
   "outputs": [
    {
     "name": "stdout",
     "output_type": "stream",
     "text": [
      "['Olá,', 'como', 'vai', 'você?']\n"
     ]
    }
   ],
   "source": [
    "#splin, join e strip são métodos que podem ser usados para manipular strings em Python\n",
    "frase = \"Olá, como vai você?\"\n",
    "palavras = frase.split() #split é usado para dividir a string em uma lista de palavras\n",
    "\n",
    "print(palavras)"
   ]
  },
  {
   "cell_type": "code",
   "execution_count": null,
   "id": "5afcc036",
   "metadata": {},
   "outputs": [
    {
     "name": "stdout",
     "output_type": "stream",
     "text": [
      "['Olá,', 'como', 'vai', 'você?']\n"
     ]
    }
   ],
   "source": [
    "palavras = ['Olá,', 'como', 'vai', 'você?']\n",
    "frase = ' '.join(palavras) #join junta as palavras de uma lista em uma string\n",
    "print(frase)"
   ]
  },
  {
   "cell_type": "code",
   "execution_count": null,
   "id": "92f4ab98",
   "metadata": {},
   "outputs": [
    {
     "name": "stdout",
     "output_type": "stream",
     "text": [
      "Olá\n"
     ]
    }
   ],
   "source": [
    "texto = \"********Olá********\"\n",
    "texto_strip  = texto.strip(\"*\") # remove os caracteres * do início e do fim da string\n",
    "print(texto_strip)  # Saída: Olá"
   ]
  },
  {
   "cell_type": "code",
   "execution_count": 46,
   "id": "0f38723b",
   "metadata": {},
   "outputs": [
    {
     "name": "stdout",
     "output_type": "stream",
     "text": [
      "Olá, meu nome é Renata e tenho 19 anos e minha altura é 1.65 metros.\n"
     ]
    }
   ],
   "source": [
    "nome = \"Renata\"\n",
    "idade = 19\n",
    "altura = 1.65\n",
    "\n",
    "mensagem = f\"Olá, meu nome é {nome} e tenho {idade} anos e minha altura é {altura:.2f} metros.\"\n",
    "print(mensagem)"
   ]
  },
  {
   "cell_type": "code",
   "execution_count": null,
   "id": "3f311837",
   "metadata": {},
   "outputs": [
    {
     "name": "stdout",
     "output_type": "stream",
     "text": [
      "OLÁ,MUNDO\n",
      "olá,mundo\n",
      "Olá,mundo\n",
      "1\n",
      "OLá,Mundo Feliz\n"
     ]
    }
   ],
   "source": [
    "#Metodos para strings\n",
    "texto = \"Olá,Mundo\"\n",
    "#metodo upper() - converte a string para maiuscula\n",
    "Texto_upper = texto.upper()\n",
    "print(Texto_upper)\n",
    "#metodo lower() - converte a string para minuscula\n",
    "Texto_lower = texto.lower()\n",
    "print(Texto_lower)\n",
    "#metodo capitalize () - converte a primeira letra da string para maiuscula\n",
    "texto_capitalize = texto.capitalize()\n",
    "print(texto_capitalize)\n",
    "#metodo count () - conta a quantidade de vezes que uma letra aparece na string\n",
    "ocorrencias = texto.count(\"o\")\n",
    "print(ocorrencias)\n",
    "#metodo replace () - substitui uma letra por outra letra\n",
    "texto_substituir = texto.replace(\"Mundo\", \"Mundo Feliz\")\n",
    "print(texto_substituir)"
   ]
  },
  {
   "cell_type": "code",
   "execution_count": null,
   "id": "855d3bf3",
   "metadata": {},
   "outputs": [
    {
     "name": "stdout",
     "output_type": "stream",
     "text": [
      "Renata Vitoria Silva Guimaraes \n",
      "Meu nome completo é Renata Vitoria Silva Guimaraes  e eu tenho 19 anos.\n"
     ]
    }
   ],
   "source": [
    "#exercicio\n",
    "\n",
    "nome = \"Renata Vitoria\"\n",
    "sobrenome = \"Silva Guimaraes \"\n",
    "idade = 19\n",
    "nome_completo = nome +\" \"+ sobrenome\n",
    "print(nome_completo)\n",
    "mensagem = f\"Meu nome completo é {nome_completo} e eu tenho {idade} anos.\"\n",
    "print(mensagem)"
   ]
  },
  {
   "cell_type": "code",
   "execution_count": null,
   "id": "c4e10694",
   "metadata": {},
   "outputs": [
    {
     "name": "stdout",
     "output_type": "stream",
     "text": [
      "A frase tem 58 caracteres\n",
      "A primeira palavra da frase é: Python\n",
      "PYTHON É UMA LINGUAGEM DE PROGRAMAÇÃO PODEROSA E VERSATIL.\n",
      "Python é uma linguagem de programação incrivel e versatil.\n"
     ]
    }
   ],
   "source": [
    "#exercicio\n",
    "\n",
    "frase = \"Python é uma linguagem de programação poderosa e versatil.\"\n",
    "tamanho_frase = len(frase)\n",
    "print(f\"A frase tem {tamanho_frase} caracteres\")\n",
    "\n",
    "palavra = frase.split()[0]\n",
    "print (f\"A primeira palavra da frase é: {palavra}\")\n",
    "\n",
    "print(frase.upper())\n",
    "\n",
    "frase_substituida = frase.replace(\"poderosa\", \"incrivel\")\n",
    "print(frase_substituida)"
   ]
  },
  {
   "cell_type": "code",
   "execution_count": 59,
   "id": "26b0537c",
   "metadata": {},
   "outputs": [
    {
     "name": "stdout",
     "output_type": "stream",
     "text": [
      "Nome completo em letras maiúsculas: MARIA DE FREITAS CARDOSO\n",
      "Nome completo em letras minúsculas: maria de freitas cardoso\n",
      "Tamanho da frase: 24\n",
      "Primeiro nome: Maria\n",
      "Último nome: Cardoso\n"
     ]
    }
   ],
   "source": [
    "nome_completo = \"Maria de Freitas Cardoso\"\n",
    "\n",
    "print(f\"Nome completo em letras maiúsculas: {nome_completo.upper()}\")\n",
    "\n",
    "print(f\"Nome completo em letras minúsculas: {nome_completo.lower()}\")\n",
    "\n",
    "texto_limpo = nome_completo.strip()\n",
    "\n",
    "tamanho_frase = len(texto_limpo)\n",
    "print(f\"Tamanho da frase: {tamanho_frase}\")\n",
    "\n",
    "primeira_palavra = nome_completo.split()[0]\n",
    "print(f\"Primeiro nome: {primeira_palavra}\")\n",
    "\n",
    "ultima_palavra = nome_completo.split()[-1]\n",
    "print(f\"Último nome: {ultima_palavra}\")"
   ]
  }
 ],
 "metadata": {
  "kernelspec": {
   "display_name": "Python 3",
   "language": "python",
   "name": "python3"
  },
  "language_info": {
   "codemirror_mode": {
    "name": "ipython",
    "version": 3
   },
   "file_extension": ".py",
   "mimetype": "text/x-python",
   "name": "python",
   "nbconvert_exporter": "python",
   "pygments_lexer": "ipython3",
   "version": "3.12.10"
  }
 },
 "nbformat": 4,
 "nbformat_minor": 5
}
