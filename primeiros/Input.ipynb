{
 "cells": [
  {
   "cell_type": "code",
   "execution_count": null,
   "metadata": {},
   "outputs": [
    {
     "name": "stdout",
     "output_type": "stream",
     "text": [
      "\n",
      " O seu nome é : 1\n"
     ]
    }
   ],
   "source": [
    "#input é uma função que lê uma string de entrada do usuário\n",
    "\n",
    "nome = input(\"Qual é o seu nome? \\n \")\n",
    "\n",
    "print(\"\\n O seu nome é : \" + nome)"
   ]
  },
  {
   "cell_type": "code",
   "execution_count": null,
   "metadata": {},
   "outputs": [],
   "source": []
  },
  {
   "cell_type": "code",
   "execution_count": null,
   "metadata": {},
   "outputs": [
    {
     "name": "stdout",
     "output_type": "stream",
     "text": [
      "A média do aluno kaua é 16.50\n"
     ]
    }
   ],
   "source": [
    "#codigo  que o usuario  insere seu nome e nota e faz a media \n",
    "nome = input(\"Qual é o seu nome? \\n \")\n",
    "nota1 = float(input(\"Qual é a sua primeira nota? \\n \"))\n",
    "nota2 = float(input(\"Qual é a sua segunda nota? \\n \"))\n",
    "\n",
    "media = (nota1 + nota2) / 2\n",
    "\n",
    "print(f\"A média do aluno {nome} é {media:.2f}\")"
   ]
  },
  {
   "cell_type": "code",
   "execution_count": 3,
   "metadata": {},
   "outputs": [
    {
     "name": "stdout",
     "output_type": "stream",
     "text": [
      "Tabuada do 2:\n",
      "2 * 1 = 2\n",
      "2 * 2 = 4\n",
      "2 * 3 = 6\n",
      "2 * 4 = 8\n",
      "2 * 5 = 10\n",
      "2 * 6 = 12\n",
      "2 * 7 = 14\n",
      "2 * 8 = 16\n",
      "2 * 9 = 18\n",
      "2 * 10 = 20\n"
     ]
    }
   ],
   "source": [
    "n = int(input(\"Digite o numero da tabuada que quer :\"))\n",
    "\n",
    "\n",
    "\n",
    "print(f\"Tabuada do {n}:\")\n",
    "print(n, \"* 1 =\", n * 1)\n",
    "print(n, \"* 2 =\", n * 2)\n",
    "print(n, \"* 3 =\", n * 3)\n",
    "print(n, \"* 4 =\", n * 4)\n",
    "print(n, \"* 5 =\", n * 5)\n",
    "print(n, \"* 6 =\", n * 6)\n",
    "print(n, \"* 7 =\", n * 7)\n",
    "print(n, \"* 8 =\", n * 8)\n",
    "print(n, \"* 9 =\", n * 9)\n",
    "print(n, \"* 10 =\", n * 10)\n"
   ]
  },
  {
   "cell_type": "code",
   "execution_count": 4,
   "metadata": {},
   "outputs": [
    {
     "name": "stdout",
     "output_type": "stream",
     "text": [
      "Você tem 20 anos\n"
     ]
    }
   ],
   "source": [
    "nacimento = (input(\"Qual o seu ano de nascimento?\"))\n",
    "idade = 2025 - int(nacimento)\n",
    "\n",
    "print(f\"Você tem {idade} anos\")"
   ]
  }
 ],
 "metadata": {
  "kernelspec": {
   "display_name": "Python 3",
   "language": "python",
   "name": "python3"
  },
  "language_info": {
   "codemirror_mode": {
    "name": "ipython",
    "version": 3
   },
   "file_extension": ".py",
   "mimetype": "text/x-python",
   "name": "python",
   "nbconvert_exporter": "python",
   "pygments_lexer": "ipython3",
   "version": "3.12.10"
  }
 },
 "nbformat": 4,
 "nbformat_minor": 2
}
